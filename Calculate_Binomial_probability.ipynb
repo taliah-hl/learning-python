{
 "cells": [
  {
   "cell_type": "markdown",
   "metadata": {},
   "source": [
    "#### This program calculates binomial probability distribution\n",
    "binomial probability distributionFormular: \n",
    "\n",
    "P(X) = n!/(n-X!)X! * p^X * (1-p)^(n-X)"
   ]
  },
  {
   "cell_type": "markdown",
   "metadata": {},
   "source": [
    "Since we have need to calculate factorial in the formular, let's make a dictionary for getting factorials."
   ]
  },
  {
   "cell_type": "code",
   "execution_count": 8,
   "metadata": {},
   "outputs": [],
   "source": [
    "def build_factorial(x):\n",
    "    \"\"\"build dictionary of factorials up to x\"\"\"\n",
    "    global factorial\n",
    "    factorial = {0:1}\n",
    "    for i in range(1,x):\n",
    "        if i-1 in factorial:\n",
    "            f = i * factorial[i-1]\n",
    "            factorial[i] = f"
   ]
  },
  {
   "cell_type": "code",
   "execution_count": 9,
   "metadata": {},
   "outputs": [],
   "source": [
    "build_factorial(100)"
   ]
  },
  {
   "cell_type": "markdown",
   "metadata": {},
   "source": [
    "Then create 2 funtions for calculation:\n",
    "\n",
    "1. fx: probability of x success in n trials\n",
    "\n",
    "2. Fx: probability of at least x success in n tirals"
   ]
  },
  {
   "cell_type": "code",
   "execution_count": 14,
   "metadata": {},
   "outputs": [],
   "source": [
    "class Bionomial_event:\n",
    "\n",
    "    def __init__(self, n, p):\n",
    "        \"\"\" n: number of total trials\n",
    "            P: Probability of success in each trial\n",
    "            x: number of success in n trials\n",
    "        \"\"\"\n",
    "        if p > 1 or p < 0:\n",
    "            raise ValueError(\"p must be between 0 and 1!\")\n",
    "        elif n%1 != 0 or n< 0:\n",
    "            raise ValueError(\"n must be non-negative integer!\")\n",
    "        else:\n",
    "            self.n = n\n",
    "            self.p = p\n",
    "\n",
    "    def fx(self, x):\n",
    "        \"\"\"\n",
    "            x: number of success in n trials\n",
    "            return: probability of x success in n trials\n",
    "        \"\"\"\n",
    "        if x%1 != 0 or x<0:\n",
    "            raise ValueError(\"x must be non-negative integer!\")\n",
    "        else:\n",
    "            self.f = factorial[self.n]/(factorial[self.n-x]*factorial[x]) * self.p**x * (1-self.p)**(self.n-x)\n",
    "        \n",
    "        return self.f\n",
    "\n",
    "    def Fx(self, x):\n",
    "        \"\"\"\n",
    "        ---Cumulative probability---\n",
    "        x: number of success in n trials\n",
    "        return: probalility of at least x sucess in n trials\n",
    "        \"\"\"\n",
    "        t = 0\n",
    "        c = 0\n",
    "        while c <= x:\n",
    "            t += self.fx(c)\n",
    "            c += 1\n",
    "        return t\n",
    "    \n",
    "    def print_fx(self, x):\n",
    "        \"\"\"\n",
    "        define nice way to print solution\n",
    "        \"\"\"\n",
    "        \n",
    "        __tmp = round(self.fx(x),4)\n",
    "        formstr = f\"n={self.n} p={self.p}\\nf(x)= {__tmp}\"\n",
    "        print(formstr,\"\\n\",\"-\"*30)\n",
    "\n",
    "    def print_Fx(self, x):\n",
    "        \"\"\"\n",
    "        define nice way to print solution\n",
    "        \"\"\"\n",
    "        \n",
    "        __tmp = round(self.Fx(x),4)\n",
    "        formstr = f\"n={self.n} p={self.p}\\nf(x)= {__tmp}\"\n",
    "        print(formstr,\"\\n\",\"-\"*30)\n"
   ]
  },
  {
   "cell_type": "markdown",
   "metadata": {},
   "source": [
    "Then we can start solving math problem!\n",
    "\n",
    "Sample problem:\n",
    "\n",
    "Suppose 55% of the population support gun control. 12 citizens are randomly selected and number of people in favour of gun control is recorded. Find the following:\n",
    "\n",
    "\n",
    "a) The probablility that exactly 7 of them support gun control\n",
    "\n",
    "b) The probablility that at most 8 of them support gun control\n",
    "\n",
    "c) The probablility that at least 5 of them support gun control\n",
    "\n"
   ]
  },
  {
   "cell_type": "code",
   "execution_count": 16,
   "metadata": {},
   "outputs": [
    {
     "name": "stdout",
     "output_type": "stream",
     "text": [
      "Solution\n",
      "(a)\n",
      "n=12 p=0.55\n",
      "f(x)= 0.2225 \n",
      " ------------------------------\n",
      "(b)\n",
      "n=12 p=0.55\n",
      "f(x)= 0.8655 \n",
      " ------------------------------\n",
      "(c)\n",
      "0.8882600236596851\n"
     ]
    }
   ],
   "source": [
    "print(\"Solution\")\n",
    "event = Bionomial_event(n=12, p=0.55)\n",
    "print(\"(a)\")\n",
    "event.print_fx(7)\n",
    "print(\"(b)\")\n",
    "event.print_Fx(8)\n",
    "print(\"(c)\")\n",
    "ans_c = 1-event.Fx(4)\n",
    "print(ans_c)"
   ]
  },
  {
   "cell_type": "code",
   "execution_count": null,
   "metadata": {},
   "outputs": [],
   "source": []
  }
 ],
 "metadata": {
  "kernelspec": {
   "display_name": "Python 3",
   "language": "python",
   "name": "python3"
  },
  "language_info": {
   "codemirror_mode": {
    "name": "ipython",
    "version": 3
   },
   "file_extension": ".py",
   "mimetype": "text/x-python",
   "name": "python",
   "nbconvert_exporter": "python",
   "pygments_lexer": "ipython3",
   "version": "3.6.9"
  }
 },
 "nbformat": 4,
 "nbformat_minor": 4
}
