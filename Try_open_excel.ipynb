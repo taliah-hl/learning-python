{
 "cells": [
  {
   "cell_type": "code",
   "execution_count": 5,
   "metadata": {},
   "outputs": [
    {
     "name": "stdout",
     "output_type": "stream",
     "text": [
      "[[84, 89, 71, 88, 75, 71, 98, 92, 74, 82], [71, 92, 72, 72, 77, 86, 92, 92, 80, 74], [77, 97, 87, 80, 86, 81, 91, 93, 85, 72]]\n"
     ]
    }
   ],
   "source": [
    "import random\n",
    "\n",
    "mark_list1 = []\n",
    "mark_list2 = []\n",
    "mark_list3 = []\n",
    "\n",
    "for m in range(10):\n",
    "    mark = random.randrange(70,99)\n",
    "    mark_list1.append(mark)\n",
    "    \n",
    "for m in range(10):\n",
    "    mark = random.randrange(70,99)\n",
    "    mark_list2.append(mark)\n",
    "\n",
    "for m in range(10):\n",
    "    mark = random.randrange(70,99)\n",
    "    mark_list3.append(mark)\n",
    "    \n",
    "mark_list=[mark_list1, mark_list2, mark_list3]\n",
    "\n",
    "print(mark_list)"
   ]
  },
  {
   "cell_type": "code",
   "execution_count": 49,
   "metadata": {},
   "outputs": [
    {
     "name": "stdout",
     "output_type": "stream",
     "text": [
      "/home/taliah/Turicreate2/TuriCreate_env\n"
     ]
    }
   ],
   "source": [
    "import os\n",
    "\n",
    "# Retrieve current working directory (`cwd`)\n",
    "cwd = os.getcwd()\n",
    "print(cwd)\n",
    "\n",
    "fin = open('test02.csv','a')\n",
    "fin.close()"
   ]
  },
  {
   "cell_type": "code",
   "execution_count": 2,
   "metadata": {},
   "outputs": [
    {
     "ename": "PermissionError",
     "evalue": "[Errno 13] Permission denied: 'test02.csv'",
     "output_type": "error",
     "traceback": [
      "\u001b[0;31m---------------------------------------------------------------------------\u001b[0m",
      "\u001b[0;31mPermissionError\u001b[0m                           Traceback (most recent call last)",
      "\u001b[0;32m<ipython-input-2-7e57b0e34d63>\u001b[0m in \u001b[0;36m<module>\u001b[0;34m\u001b[0m\n\u001b[1;32m      1\u001b[0m \u001b[0;32mfrom\u001b[0m \u001b[0mmatplotlib\u001b[0m \u001b[0;32mimport\u001b[0m \u001b[0mpyplot\u001b[0m \u001b[0;32mas\u001b[0m \u001b[0mplt\u001b[0m\u001b[0;34m\u001b[0m\u001b[0;34m\u001b[0m\u001b[0m\n\u001b[0;32m----> 2\u001b[0;31m \u001b[0;32mwith\u001b[0m \u001b[0mopen\u001b[0m\u001b[0;34m(\u001b[0m\u001b[0;34m'test02.csv'\u001b[0m\u001b[0;34m,\u001b[0m \u001b[0;34m'r'\u001b[0m\u001b[0;34m)\u001b[0m\u001b[0;32mas\u001b[0m \u001b[0mfin\u001b[0m\u001b[0;34m:\u001b[0m\u001b[0;34m\u001b[0m\u001b[0;34m\u001b[0m\u001b[0m\n\u001b[0m\u001b[1;32m      3\u001b[0m     \u001b[0mdata\u001b[0m \u001b[0;34m=\u001b[0m \u001b[0mfin\u001b[0m\u001b[0;34m.\u001b[0m\u001b[0mreadline\u001b[0m\u001b[0;34m(\u001b[0m\u001b[0;34m)\u001b[0m\u001b[0;34m\u001b[0m\u001b[0;34m\u001b[0m\u001b[0m\n\u001b[1;32m      4\u001b[0m     \u001b[0mprint\u001b[0m\u001b[0;34m(\u001b[0m\u001b[0mdata\u001b[0m\u001b[0;34m)\u001b[0m\u001b[0;34m\u001b[0m\u001b[0;34m\u001b[0m\u001b[0m\n\u001b[1;32m      5\u001b[0m \u001b[0;34m\u001b[0m\u001b[0m\n",
      "\u001b[0;31mPermissionError\u001b[0m: [Errno 13] Permission denied: 'test02.csv'"
     ]
    }
   ],
   "source": [
    "from matplotlib import pyplot as plt\n",
    "with open('test02.csv', 'r')as fin:\n",
    "    data = fin.readline()\n",
    "    print(data)\n",
    "    \n",
    "\n",
    "'''\n",
    "data = ['Name,Chinese,English,Math\\n', \n",
    "        'Arron,97,75,94\\n',\n",
    "        'Bravo,92,78,92\\n', \n",
    "        'Charlie,71,83,91\\n', \n",
    "        'Debbie,85,95,98\\n', \n",
    "        'Eddie,83,97,80\\n', \n",
    "        'Fiona,78,92,93\\n', \n",
    "        'Gloria,73,81,75\\n', \n",
    "        'Harrick,76,92,78\\n', \n",
    "        'Irene,71,70,95\\n']\n",
    "'''\n",
    "spdata = []\n",
    "\n",
    "\n",
    "for i in range(len(data)):\n",
    "    lines = data[i].strip('\\n')\n",
    "    tmp = lines.split(',')\n",
    "    spdata.append(tmp)\n",
    "print(spdata)\n",
    "\n",
    "key = []\n",
    "chi = []\n",
    "eng = []\n",
    "mat = []\n",
    "\n",
    "for i in range(1,len(spdata)):\n",
    "    key.append(spdata[i][0])\n",
    "\n",
    "for i in range(1,len(spdata)):\n",
    "    chi.append(int(spdata[i][1]))\n",
    "    \n",
    "for i in range(1,len(spdata)):\n",
    "    eng.append(int(spdata[i][2]))\n",
    "    \n",
    "for i in range(1,len(spdata)):\n",
    "    mat.append(int(spdata[i][3]))    \n",
    "    \n",
    "print('key :\\n',key)    \n",
    "print('chi :\\n',chi)\n",
    "print('eng :\\n',eng)\n",
    "print('math :\\n',mat)\n",
    "\n",
    "plt.bar(key, chi, label = 'Chinese', color = 'brown', edgecolor='black')\n",
    "plt.bar(key, eng, label = 'English', color = 'pink', edgecolor='black')\n",
    "plt.bar(key, mat, label = 'Math', color = 'blue', edgecolor='black')\n",
    "plt.ylabel('mark')\n",
    "plt.ylim(50,100)\n",
    "plt.legend()\n",
    "plt.show()\n"
   ]
  },
  {
   "cell_type": "code",
   "execution_count": 36,
   "metadata": {},
   "outputs": [
    {
     "name": "stdout",
     "output_type": "stream",
     "text": [
      "[['Name', 'Chinese', 'English', 'Math'], ['Arron', '97', '75', '94'], ['Bravo', '92', '78', '92'], ['Charlie', '71', '83', '91'], ['Debbie', '85', '95', '98'], ['Eddie', '83', '97', '80'], ['Fiona', '78', '92', '93'], ['Gloria', '73', '81', '75'], ['Harrick', '76', '92', '78'], ['Irene', '71', '70', '95']]\n"
     ]
    },
    {
     "data": {
      "image/png": "[encoded data removed]",
      "text/plain": [
       "<Figure size 432x288 with 1 Axes>"
      ]
     },
     "metadata": {
      "needs_background": "light"
     },
     "output_type": "display_data"
    }
   ],
   "source": [
    "from matplotlib import pyplot as plt\n",
    "import numpy as np\n",
    "# coding=utf-8\n",
    "\n",
    "data = ['Name,Chinese,English,Math\\n', \n",
    "        'Arron,97,75,94\\n',\n",
    "        'Bravo,92,78,92\\n', \n",
    "        'Charlie,71,83,91\\n', \n",
    "        'Debbie,85,95,98\\n', \n",
    "        'Eddie,83,97,80\\n', \n",
    "        'Fiona,78,92,93\\n', \n",
    "        'Gloria,73,81,75\\n', \n",
    "        'Harrick,76,92,78\\n', \n",
    "        'Irene,71,70,95\\n']\n",
    "\n",
    "spdata = []\n",
    "n_groups = len(data)-1\n",
    "\n",
    "for i in range(len(data)):\n",
    "    lines = data[i].strip('\\n')\n",
    "    tmp = lines.split(',')\n",
    "    spdata.append(tmp)\n",
    "print(spdata)\n",
    "\n",
    "key = []\n",
    "chi = []\n",
    "eng = []\n",
    "mat = []\n",
    "\n",
    "for i in range(1,len(spdata)):\n",
    "    key.append(spdata[i][0])\n",
    "\n",
    "for i in range(1,len(spdata)):\n",
    "    chi.append(int(spdata[i][1]))\n",
    "    \n",
    "for i in range(1,len(spdata)):\n",
    "    eng.append(int(spdata[i][2]))\n",
    "    \n",
    "for i in range(1,len(spdata)):\n",
    "    mat.append(int(spdata[i][3]))    \n",
    "    \n",
    "\n",
    "fig, ax = plt.subplots()\n",
    "index = np.arange(n_groups)\n",
    "bar_width = 0.25\n",
    "\n",
    "rects1 = plt.bar(index, chi, bar_width,\n",
    "color='blue',edgecolor='black',\n",
    "label='Chinese')\n",
    "\n",
    "rects2 = plt.bar(index + bar_width, eng, bar_width,\n",
    "color='g', edgecolor='black',\n",
    "label='English')\n",
    "\n",
    "rects3 = plt.bar(index + bar_width * 2, mat, bar_width,\n",
    "color='pink',edgecolor='black',\n",
    "label='Math')\n",
    "plt.xlabel('Student')\n",
    "plt.ylabel('Marks')\n",
    "plt.title('Marks in different subjects')\n",
    "\n",
    "plt.xticks(index + bar_width, key)\n",
    "plt.legend()\n",
    "plt.tight_layout()\n",
    "plt.show()"
   ]
  },
  {
   "cell_type": "code",
   "execution_count": null,
   "metadata": {},
   "outputs": [],
   "source": []
  }
 ],
 "metadata": {
  "kernelspec": {
   "display_name": "Python 3",
   "language": "python",
   "name": "python3"
  },
  "language_info": {
   "codemirror_mode": {
    "name": "ipython",
    "version": 3
   },
   "file_extension": ".py",
   "mimetype": "text/x-python",
   "name": "python",
   "nbconvert_exporter": "python",
   "pygments_lexer": "ipython3",
   "version": "3.6.9"
  }
 },
 "nbformat": 4,
 "nbformat_minor": 4
}
