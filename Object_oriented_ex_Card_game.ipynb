{
 "cells": [
  {
   "cell_type": "markdown",
   "metadata": {},
   "source": [
    "# Object Oriented Exercise - Card Game"
   ]
  },
  {
   "cell_type": "markdown",
   "metadata": {},
   "source": [
    "Practicing object oriented concept by creating a virtual card deck and creating funtions for picking cards and shuffling."
   ]
  },
  {
   "cell_type": "markdown",
   "metadata": {},
   "source": [
    "#### First, define all class required"
   ]
  },
  {
   "cell_type": "code",
   "execution_count": 1,
   "metadata": {},
   "outputs": [],
   "source": [
    "import random\n",
    "class Card:\n",
    "      \n",
    "      def __init__(self, suit = 0, rank = 0):\n",
    "            self.suit = suit\n",
    "            self.rank = rank\n",
    "      suit_name = ['undefined ', '階磚', '梅花', '紅心', '葵扇']\n",
    "      rank_name = ['undefined ', 'wrong index', 'wrong index', '3', '4', '5', '6', '7', '8', '9', '10', \\\n",
    "                   'Jack', 'Queen', 'King', 'Ace', '2']\n",
    "      #Jack =11, Queen = 12, King = 13, Ace = 14, 2 = 15\n",
    "\n",
    "      def __str__(self):\n",
    "            return str(Card.suit_name[self.suit]) + str(Card.rank_name[self.rank])\n",
    "\n",
    "      def __lt__(self, other):\n",
    "            ele1 = self.rank, self.suit\n",
    "            ele2 = other.rank, other.suit\n",
    "            return ele1 < ele2\n",
    "\n",
    "class Deck:\n",
    "\n",
    "      '''這是檯面的牌堆'''\n",
    "      def __init__(self):\n",
    "            \n",
    "            '''一開始是齊52隻牌,由底開始順序排列'''\n",
    "            \n",
    "            self.deck = []\n",
    "            for i in range(3,16):\n",
    "                  for j in range(1,5):\n",
    "                        card = Card(j, i)\n",
    "                        self.deck.append(card)\n",
    "                        \n",
    "      def __str__(self):\n",
    "            formstr = '現在檯面的牌堆是(由底至面): '\n",
    "            for i in range(len(self.deck)):\n",
    "                  formstr += '\\t' + str(self.deck[i])\n",
    "            return formstr\n",
    "\n",
    "      def shuffle(self):\n",
    "            random.shuffle(self.deck)\n",
    "            print('~牌堆已洗牌~')\n",
    "\n",
    "      def pick(self):\n",
    "            '''抽出最面的牌'''\n",
    "            return self.deck.pop()\n",
    "\n",
    "      def sort(self):\n",
    "            c = len(self.deck)-1 #inner loop counter\n",
    "            n = len(self.deck)-1 #outer loop counter\n",
    "\n",
    "            while n > 0:\n",
    "                  while c > 0:\n",
    "                        if self.deck[c] < self.deck[c-1]:\n",
    "                              tmp = self.deck.pop(c)\n",
    "                              self.deck.insert(c-1, tmp)\n",
    "                        c -= 1\n",
    "                  c = len(self.deck)-1\n",
    "                  n -= 1\n",
    "            print('~牌堆已排序~')\n",
    "            \n",
    "class Hand(Deck):\n",
    "\n",
    "      '''sum of all cards own by a player'''\n",
    "      def __init__(self, player='no name', cards = None):\n",
    "            self.player = player\n",
    "            if cards == None:\n",
    "                  self.handcard = []\n",
    "            else:\n",
    "                  self.handcard = cards\n",
    "      def add_card(self, card):\n",
    "            self.handcard.append(card)\n",
    "\n",
    "      def __str__(self):\n",
    "            formstr = str(self.player) + ' 的手牌: '\n",
    "            for i in range(len(self.handcard)):\n",
    "                  formstr += '  ' + str(self.handcard[i])\n",
    "            return formstr\n",
    "            \n"
   ]
  },
  {
   "cell_type": "markdown",
   "metadata": {},
   "source": [
    "#### Then start the game!"
   ]
  },
  {
   "cell_type": "code",
   "execution_count": 2,
   "metadata": {},
   "outputs": [
    {
     "name": "stdout",
     "output_type": "stream",
     "text": [
      "~牌堆已洗牌~\n"
     ]
    }
   ],
   "source": [
    "d1 = Deck()\n",
    "d1.shuffle()\n",
    "#創造牌堆及洗牌"
   ]
  },
  {
   "cell_type": "code",
   "execution_count": 3,
   "metadata": {},
   "outputs": [
    {
     "name": "stdout",
     "output_type": "stream",
     "text": [
      "Mary 的手牌:   紅心8  階磚10  階磚King  梅花King  葵扇Jack\n"
     ]
    }
   ],
   "source": [
    "mary = Hand('Mary') #創造玩家Mary手牌\n",
    "tmp = d1.pick()  \n",
    "mary.add_card(tmp)  \n",
    "tmp = d1.pick()\n",
    "mary.add_card(tmp)\n",
    "tmp = d1.pick()\n",
    "mary.add_card(tmp)\n",
    "tmp = d1.pick()\n",
    "mary.add_card(tmp)\n",
    "tmp = d1.pick()\n",
    "mary.add_card(tmp) #Mary完成抽5張牌\n",
    "print(mary)"
   ]
  },
  {
   "cell_type": "code",
   "execution_count": 4,
   "metadata": {},
   "outputs": [
    {
     "name": "stdout",
     "output_type": "stream",
     "text": [
      "BB 的手牌:   梅花4  階磚Queen  紅心9  紅心5  階磚3\n"
     ]
    }
   ],
   "source": [
    "BB = Hand('BB') #創造玩家BB手牌\n",
    "tmp = d1.pick()\n",
    "BB.add_card(tmp)\n",
    "tmp = d1.pick()\n",
    "BB.add_card(tmp)\n",
    "tmp = d1.pick()\n",
    "BB.add_card(tmp)\n",
    "tmp = d1.pick()\n",
    "BB.add_card(tmp)\n",
    "tmp = d1.pick()\n",
    "BB.add_card(tmp)     #BB完成抽5張牌\n",
    "print(BB)"
   ]
  },
  {
   "cell_type": "code",
   "execution_count": 5,
   "metadata": {},
   "outputs": [
    {
     "name": "stdout",
     "output_type": "stream",
     "text": [
      "~牌堆已排序~\n",
      "現在檯面的牌堆是(由底至面): \t梅花3\t紅心3\t葵扇3\t階磚4\t紅心4\t葵扇4\t階磚5\t梅花5\t葵扇5\t階磚6\t梅花6\t紅心6\t葵扇6\t階磚7\t梅花7\t紅心7\t葵扇7\t階磚8\t梅花8\t葵扇8\t階磚9\t梅花9\t葵扇9\t梅花10\t紅心10\t葵扇10\t階磚Jack\t梅花Jack\t紅心Jack\t梅花Queen\t紅心Queen\t葵扇Queen\t紅心King\t葵扇King\t階磚Ace\t梅花Ace\t紅心Ace\t葵扇Ace\t階磚2\t梅花2\t紅心2\t葵扇2\n",
      "~牌堆已洗牌~\n",
      "現在檯面的牌堆是(由底至面): \t紅心King\t梅花7\t階磚4\t葵扇9\t紅心10\t紅心Queen\t葵扇King\t梅花Ace\t紅心3\t紅心7\t紅心6\t葵扇6\t階磚6\t梅花6\t階磚5\t梅花9\t葵扇7\t葵扇3\t葵扇Queen\t階磚7\t葵扇5\t梅花5\t階磚2\t階磚Ace\t葵扇10\t葵扇Ace\t葵扇4\t紅心4\t葵扇2\t梅花Jack\t梅花10\t梅花3\t梅花8\t梅花2\t紅心2\t階磚Jack\t紅心Jack\t梅花Queen\t葵扇8\t紅心Ace\t階磚9\t階磚8\n"
     ]
    }
   ],
   "source": [
    "d1.sort() #由小至大排序牌推\n",
    "print(d1)\n",
    "d1.shuffle()\n",
    "print(d1)"
   ]
  },
  {
   "cell_type": "code",
   "execution_count": 6,
   "metadata": {},
   "outputs": [
    {
     "name": "stdout",
     "output_type": "stream",
     "text": [
      "undefined undefined  紅心7 階磚7\n",
      "紅心7\n",
      "階磚7\n",
      "紅心7 比 階磚7 小:  False\n"
     ]
    }
   ],
   "source": [
    "c1 = Card(0,0)\n",
    "c2 = Card(3,7)\n",
    "c3 = Card(1,7)\n",
    "\n",
    "#嘗試比較牌的大小\n",
    "print(c1, c2, c3)\n",
    "print(c2)\n",
    "print(c3)\n",
    "print(c2, '比', c3, '小: ',c2 < c3)\n"
   ]
  },
  {
   "cell_type": "code",
   "execution_count": null,
   "metadata": {},
   "outputs": [],
   "source": []
  }
 ],
 "metadata": {
  "kernelspec": {
   "display_name": "Python 3",
   "language": "python",
   "name": "python3"
  },
  "language_info": {
   "codemirror_mode": {
    "name": "ipython",
    "version": 3
   },
   "file_extension": ".py",
   "mimetype": "text/x-python",
   "name": "python",
   "nbconvert_exporter": "python",
   "pygments_lexer": "ipython3",
   "version": "3.6.9"
  }
 },
 "nbformat": 4,
 "nbformat_minor": 4
}
