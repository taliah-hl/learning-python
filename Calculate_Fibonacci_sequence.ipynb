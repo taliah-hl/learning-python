{
 "cells": [
  {
   "cell_type": "markdown",
   "metadata": {},
   "source": [
    "# Testing speed of function loop vs dictionary"
   ]
  },
  {
   "cell_type": "markdown",
   "metadata": {},
   "source": [
    "In this exercise, I try to generate Fibonacci sequence by two ways, in order to compare the speed\n",
    "\n",
    "Formular of Fibonacci Sequence: \n",
    "\n",
    "         F(0) =0, F(1) = 1,\n",
    "         \n",
    "         F(n) = F(n-1) + F(n-2) for n>1, n has to be positive integer\n",
    "         \n",
    "\n",
    "The beginning of the sequence is thus:0,1,1,2,3,5,8,13,21,34,55,89,144,...\n",
    "detail please see: https://en.wikipedia.org/wiki/Fibonacci_number\n",
    "\n",
    "In the first way, I create a function that itself repetitively to calculate the nth number in fibonacci sequence.\n",
    "In the second way, I store the numbers in fibonacci sequence in a dictionary, then calculate the nth number by recalling previous entries in the dictionary.\n",
    "\n",
    "Then I found that in the first way, the computer take a long time to run the function, and stop responding when the function call itself for dozens times.\n",
    "\n",
    "In the second way, the function responds instantly even need to calculate the 100th number in fibonacci sequence. "
   ]
  },
  {
   "cell_type": "markdown",
   "metadata": {},
   "source": [
    "### 1. First Way: Using a Function\n",
    "\n",
    "Create a function using the most straight forward way..."
   ]
  },
  {
   "cell_type": "code",
   "execution_count": 3,
   "metadata": {},
   "outputs": [],
   "source": [
    "def fb(n):\n",
    "    '''n: the nth number in Finoacci Sequence'''\n",
    "    if n == 0:\n",
    "        return 0\n",
    "    elif n == 1:\n",
    "        return 1\n",
    "    elif n>1:\n",
    "        return fb(n-1) + fb(n-2)\n",
    "\n",
    "def printfb(x):\n",
    "    '''define nice way to print result'''\n",
    "    print('F(%s) = ' % x, fb(x))"
   ]
  },
  {
   "cell_type": "code",
   "execution_count": 4,
   "metadata": {},
   "outputs": [
    {
     "name": "stdout",
     "output_type": "stream",
     "text": [
      "F(10) =  55\n"
     ]
    }
   ],
   "source": [
    "#try to get the 10th number\n",
    "printfb(10)"
   ]
  },
  {
   "cell_type": "code",
   "execution_count": 5,
   "metadata": {},
   "outputs": [
    {
     "name": "stdout",
     "output_type": "stream",
     "text": [
      "F(35) =  9227465\n"
     ]
    }
   ],
   "source": [
    "printfb(35)"
   ]
  },
  {
   "cell_type": "markdown",
   "metadata": {},
   "source": [
    "此程式作用是測試不斷迴圈式call function的效率\n",
    "\n",
    "測試結果:\n",
    "\n",
    "printfb(22)不足一秒有結果\n",
    "\n",
    "printfb(30)~1.5秒有結果\n",
    "\n",
    "printfb(35)~5秒有結果\n",
    "\n",
    "printfb(50)就當機了,沒有結果\n"
   ]
  },
  {
   "cell_type": "markdown",
   "metadata": {},
   "source": [
    "### 2. Second Way: By Building a Dictionary"
   ]
  },
  {
   "cell_type": "code",
   "execution_count": 6,
   "metadata": {},
   "outputs": [],
   "source": [
    "fibonacci_dict = {}\n",
    "fibonacci_dict[0]=0\n",
    "fibonacci_dict[1]=1\n",
    "\n",
    "def builddict(n):\n",
    "    '''build fibonacci dict up to n'''\n",
    "    accu = 2\n",
    "    while accu < n+1:\n",
    "        fibonacci_dict[accu] = fibonacci_dict[accu-1] + fibonacci_dict[accu-2]\n",
    "        accu += 1"
   ]
  },
  {
   "cell_type": "code",
   "execution_count": 7,
   "metadata": {},
   "outputs": [],
   "source": [
    "def getfb(n):\n",
    "    if n < 0 or (n %1 != 0 and n%1 != 0.0):\n",
    "        raise ValueError('fibonacci function only accpet positvie integer')\n",
    "    elif n not in fibonacci_dict:\n",
    "        calfb(n)\n",
    "    return fibonacci_dict[n]\n",
    "\n",
    "def calfb(n):\n",
    "    '''build the gap in fibonacci dict between existing entries to n'''\n",
    "    if n < 0 or (n %1 != 0 and n%1 != 0.0):\n",
    "        raise ValueError('fibonacci function only accpet positvie integer')\n",
    "    accu = n\n",
    "    while accu >= 0:\n",
    "        if accu in fibonacci_dict:\n",
    "            break\n",
    "        accu -= 1\n",
    "    while accu < n:\n",
    "        fibonacci_dict[accu+1] = fibonacci_dict[accu] + fibonacci_dict[accu-1]\n",
    "        accu += 1\n",
    "    return\n",
    "\n",
    "def printfb(n):\n",
    "    if n < 0 or (n %1 != 0 and n%1 != 0.0):\n",
    "        raise ValueError('fibonacci function only accpet positvie integer')\n",
    "      \n",
    "    elif n in fibonacci_dict:\n",
    "        print('F(%s) = ' % n, fibonacci_dict[n])\n",
    "    else:\n",
    "        raise LookupError('value not exist in fibonacci dictionary yet,\\n\\\n",
    "please call calfb(value) first')"
   ]
  },
  {
   "cell_type": "code",
   "execution_count": 10,
   "metadata": {
    "scrolled": true
   },
   "outputs": [
    {
     "name": "stdout",
     "output_type": "stream",
     "text": [
      "befor everything...\n",
      "{0: 0, 1: 1}\n",
      "******************\n",
      "now strart to build dictionary up to 50\n",
      "Press Enter to continue  \n",
      "dictionary now contains...\n",
      "{0: 0, 1: 1, 2: 1, 3: 2, 4: 3, 5: 5, 6: 8, 7: 13, 8: 21, 9: 34, 10: 55, 11: 89, 12: 144, 13: 233, 14: 377, 15: 610, 16: 987, 17: 1597, 18: 2584, 19: 4181, 20: 6765, 21: 10946, 22: 17711, 23: 28657, 24: 46368, 25: 75025, 26: 121393, 27: 196418, 28: 317811, 29: 514229, 30: 832040, 31: 1346269, 32: 2178309, 33: 3524578, 34: 5702887, 35: 9227465, 36: 14930352, 37: 24157817, 38: 39088169, 39: 63245986, 40: 102334155, 41: 165580141, 42: 267914296, 43: 433494437, 44: 701408733, 45: 1134903170, 46: 1836311903, 47: 2971215073, 48: 4807526976, 49: 7778742049, 50: 12586269025}\n",
      "can you feel how fast this is?\n"
     ]
    }
   ],
   "source": [
    "#programm demonstration\n",
    "print('befor everything...')\n",
    "print(fibonacci_dict)\n",
    "print('******************')\n",
    "print('now strart to build dictionary up to 50')\n",
    "checker = input('Press Enter to continue  ')\n",
    "builddict(50)\n",
    "print('dictionary now contains...')\n",
    "print(fibonacci_dict)"
   ]
  },
  {
   "cell_type": "code",
   "execution_count": 12,
   "metadata": {},
   "outputs": [
    {
     "name": "stdout",
     "output_type": "stream",
     "text": [
      "F(100) =  354224848179261915075\n"
     ]
    }
   ],
   "source": [
    "# get the 100th number in Fibonacci\n",
    "getfb(100)\n",
    "printfb(100)"
   ]
  },
  {
   "cell_type": "markdown",
   "metadata": {},
   "source": [
    "#### Speed Testing Result\n",
    "build dict up to 100th response instantly\n",
    "\n",
    "build dict up to 500th take some time less than 1 sec\n",
    "\n",
    "build dict up to 1000th take around 2 seconds\n",
    "\n",
    "way faster than using loop function\n"
   ]
  },
  {
   "cell_type": "code",
   "execution_count": null,
   "metadata": {},
   "outputs": [],
   "source": []
  }
 ],
 "metadata": {
  "kernelspec": {
   "display_name": "Python 3",
   "language": "python",
   "name": "python3"
  },
  "language_info": {
   "codemirror_mode": {
    "name": "ipython",
    "version": 3
   },
   "file_extension": ".py",
   "mimetype": "text/x-python",
   "name": "python",
   "nbconvert_exporter": "python",
   "pygments_lexer": "ipython3",
   "version": "3.6.9"
  }
 },
 "nbformat": 4,
 "nbformat_minor": 4
}
