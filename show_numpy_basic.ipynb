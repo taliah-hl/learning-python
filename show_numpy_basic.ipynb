{
 "cells": [
  {
   "cell_type": "markdown",
   "metadata": {},
   "source": [
    "# Numpy Basic Learning Notes 1\n",
    "\n",
    "learning reference: https://www.youtube.com/watch?v=GB9ByFAIAH4&t=1426s\n",
    "\n",
    "This notebook is a showcase of basic concepts of Numpy\n",
    "\n",
    "other notes:\n",
    "\n",
    "basic: windows\\....\\bk4\\numpy_test.py\n",
    "\n",
    "what math can numpy do: this folder\\show_numpy_math.ipynb"
   ]
  },
  {
   "cell_type": "markdown",
   "metadata": {},
   "source": [
    "### 1. Create np array"
   ]
  },
  {
   "cell_type": "code",
   "execution_count": 2,
   "metadata": {},
   "outputs": [],
   "source": [
    "import numpy as np"
   ]
  },
  {
   "cell_type": "code",
   "execution_count": 11,
   "metadata": {},
   "outputs": [
    {
     "data": {
      "text/plain": [
       "array([1., 1., 1., 1., 1.])"
      ]
     },
     "execution_count": 11,
     "metadata": {},
     "output_type": "execute_result"
    }
   ],
   "source": [
    "a = np.ones(5)\n",
    "a"
   ]
  },
  {
   "cell_type": "code",
   "execution_count": 12,
   "metadata": {},
   "outputs": [
    {
     "data": {
      "text/plain": [
       "dtype('float64')"
      ]
     },
     "execution_count": 12,
     "metadata": {},
     "output_type": "execute_result"
    }
   ],
   "source": [
    "a.dtype\n"
   ]
  },
  {
   "cell_type": "markdown",
   "metadata": {},
   "source": [
    "-->np.zeors() by defualt is float64, means each number eat 64 bytes in the computer"
   ]
  },
  {
   "cell_type": "code",
   "execution_count": 13,
   "metadata": {},
   "outputs": [
    {
     "data": {
      "text/plain": [
       "dtype('int8')"
      ]
     },
     "execution_count": 13,
     "metadata": {},
     "output_type": "execute_result"
    }
   ],
   "source": [
    "a = np.ones(5, dtype='int8')\n",
    "a.dtype"
   ]
  },
  {
   "cell_type": "code",
   "execution_count": 9,
   "metadata": {},
   "outputs": [
    {
     "data": {
      "text/plain": [
       "array([[8, 8],\n",
       "       [8, 8]])"
      ]
     },
     "execution_count": 9,
     "metadata": {},
     "output_type": "execute_result"
    }
   ],
   "source": [
    "np.random.randint(8,10,size = (2,2))\n"
   ]
  },
  {
   "cell_type": "markdown",
   "metadata": {},
   "source": [
    "create array of random int bwtween 8 (inclusice) and 10 (exclusive)"
   ]
  },
  {
   "cell_type": "markdown",
   "metadata": {},
   "source": [
    "create array like identity matrix"
   ]
  },
  {
   "cell_type": "code",
   "execution_count": 6,
   "metadata": {},
   "outputs": [
    {
     "data": {
      "text/plain": [
       "array([ 0.,  1.,  2.,  3.,  4.,  5.,  6.,  7.,  8.,  9., 10.])"
      ]
     },
     "execution_count": 6,
     "metadata": {},
     "output_type": "execute_result"
    }
   ],
   "source": [
    "np.linspace(0,10,11,endpoint=True)"
   ]
  },
  {
   "cell_type": "markdown",
   "metadata": {},
   "source": [
    "endpoint = True 代表含終值,不寫default是True"
   ]
  },
  {
   "cell_type": "code",
   "execution_count": 10,
   "metadata": {},
   "outputs": [
    {
     "data": {
      "text/plain": [
       "array([[1., 0., 0., 0., 0., 0.],\n",
       "       [0., 1., 0., 0., 0., 0.],\n",
       "       [0., 0., 1., 0., 0., 0.],\n",
       "       [0., 0., 0., 1., 0., 0.],\n",
       "       [0., 0., 0., 0., 1., 0.],\n",
       "       [0., 0., 0., 0., 0., 1.]])"
      ]
     },
     "execution_count": 10,
     "metadata": {},
     "output_type": "execute_result"
    }
   ],
   "source": [
    "np.identity(6)"
   ]
  },
  {
   "cell_type": "markdown",
   "metadata": {},
   "source": [
    "## np.repeat"
   ]
  },
  {
   "cell_type": "code",
   "execution_count": 17,
   "metadata": {},
   "outputs": [
    {
     "name": "stdout",
     "output_type": "stream",
     "text": [
      "r3\n",
      " [[[1 2 3]\n",
      "  [4 5 6]]\n",
      "\n",
      " [[1 2 3]\n",
      "  [4 5 6]]]\n",
      "r4\n",
      " [[[1 2 3]\n",
      "  [1 2 3]\n",
      "  [4 5 6]\n",
      "  [4 5 6]]]\n",
      "r5\n",
      " [[[1 1 2 2 3 3]\n",
      "  [4 4 5 5 6 6]]]\n"
     ]
    }
   ],
   "source": [
    "B = np.array([[[1,2,3],[4,5,6]]])\n",
    "r3 = np.repeat(B, 2, axis=0)\n",
    "r4 = np.repeat(B, 2, axis=1)\n",
    "r5 = np.repeat(B, 2, axis=2)\n",
    "print(\"r3\\n\",r3)\n",
    "print(\"r4\\n\",r4)\n",
    "print(\"r5\\n\",r5)"
   ]
  },
  {
   "cell_type": "markdown",
   "metadata": {},
   "source": [
    "Explain of np.repeat()\n",
    "\n",
    "axis是最0代表最外層,愈大number代表愈外層\n",
    "\n",
    "in array B, \n",
    "\n",
    "axis 0 = [[1 2 3] [4 5 6]]the whole thing\n",
    "\n",
    "axis 1 = [1 2 3] 和 [4 5 6]\n",
    "\n",
    "axis 2 = 1,2,3,4,5,6\n"
   ]
  },
  {
   "cell_type": "code",
   "execution_count": 24,
   "metadata": {},
   "outputs": [
    {
     "name": "stdout",
     "output_type": "stream",
     "text": [
      "[1 0 0 0 5 6 7]\n"
     ]
    }
   ],
   "source": [
    "c = np.array([1,2,3,4,5,6,7])\n",
    "b = np.zeros(3)\n",
    "c[1:4] = b\n",
    "print(c)"
   ]
  },
  {
   "cell_type": "markdown",
   "metadata": {},
   "source": [
    "## Exercis\n",
    "create an array that looks like\n",
    "\n",
    "[1 1 1 1 1 1 1 1 \n",
    "\n",
    "1 1 1 1 1 1 1 1 \n",
    "\n",
    "1 1 0 0 0 1 1 1 \n",
    "\n",
    "1 1 0 9 0 1 1 1 \n",
    "\n",
    "1 1 0 0 0 1 1 1 \n",
    "\n",
    "1 1 1 1 1 1 1 1 \n",
    "\n",
    "1 1 1 1 1 1 1 1 \n",
    "\n",
    "1 1 1 1 1 1 1 1 ]"
   ]
  },
  {
   "cell_type": "code",
   "execution_count": 33,
   "metadata": {},
   "outputs": [
    {
     "name": "stdout",
     "output_type": "stream",
     "text": [
      "[[1 1 1 1 1 1 1 1]\n",
      " [1 1 1 1 1 1 1 1]\n",
      " [1 1 0 0 0 1 1 1]\n",
      " [1 1 0 9 0 1 1 1]\n",
      " [1 1 0 0 0 1 1 1]\n",
      " [1 1 1 1 1 1 1 1]\n",
      " [1 1 1 1 1 1 1 1]\n",
      " [1 1 1 1 1 1 1 1]]\n"
     ]
    }
   ],
   "source": [
    "#solution\n",
    "a = np.ones((8,8),dtype='int8')\n",
    "b = np.zeros((3,3),dtype='int8')\n",
    "b[1,1] = 9\n",
    "a[2:5,2:5] = b\n",
    "print(a)"
   ]
  },
  {
   "cell_type": "markdown",
   "metadata": {},
   "source": [
    "## copying array??\n"
   ]
  },
  {
   "cell_type": "markdown",
   "metadata": {},
   "source": [
    "if you say\n",
    "\n",
    "A = np.array([1,2,3])\n",
    "\n",
    "B = A\n",
    "\n",
    "then A and B is pointing to the same array\n",
    "\n",
    "example\n"
   ]
  },
  {
   "cell_type": "code",
   "execution_count": 34,
   "metadata": {},
   "outputs": [
    {
     "name": "stdout",
     "output_type": "stream",
     "text": [
      "[9 2 3]\n",
      "[9 2 3]\n"
     ]
    }
   ],
   "source": [
    "A = np.array([1,2,3])\n",
    "B = A\n",
    "B[0] = 9\n",
    "print(A)\n",
    "print(B)"
   ]
  },
  {
   "cell_type": "markdown",
   "metadata": {},
   "source": [
    "## to make a copy of A, use A.copy()"
   ]
  },
  {
   "cell_type": "code",
   "execution_count": 3,
   "metadata": {},
   "outputs": [
    {
     "name": "stdout",
     "output_type": "stream",
     "text": [
      "[1. 2. 3.]\n",
      "[9. 2. 3.]\n"
     ]
    }
   ],
   "source": [
    "A = np.array([1,2,3], dtype='float64')\n",
    "B = A.copy()\n",
    "B[0] = 9\n",
    "print(A)\n",
    "print(B)"
   ]
  },
  {
   "cell_type": "markdown",
   "metadata": {},
   "source": [
    "### make a copy of A and change data type using A.astype()"
   ]
  },
  {
   "cell_type": "markdown",
   "metadata": {},
   "source": [
    "### Reshape array"
   ]
  },
  {
   "cell_type": "code",
   "execution_count": 4,
   "metadata": {},
   "outputs": [
    {
     "name": "stdout",
     "output_type": "stream",
     "text": [
      "[1 2 3]\n"
     ]
    }
   ],
   "source": [
    "C = A.astype('int32')\n",
    "print(C)"
   ]
  },
  {
   "cell_type": "code",
   "execution_count": 5,
   "metadata": {},
   "outputs": [
    {
     "name": "stdout",
     "output_type": "stream",
     "text": [
      "[[1 2 3]\n",
      " [7 8 9]\n",
      " [4 5 6]]\n"
     ]
    }
   ],
   "source": [
    "A = np.array([[1,2,3],[7,8,9]])\n",
    "B = np.array([4,5,6])\n",
    "C = np.vstack((A, B))\n",
    "print(C)"
   ]
  },
  {
   "cell_type": "markdown",
   "metadata": {},
   "source": [
    "np.vstack((N1,N2,Nn...))可把array vertically疊起成新的array (形狀需要可以疊起)"
   ]
  },
  {
   "cell_type": "code",
   "execution_count": null,
   "metadata": {},
   "outputs": [],
   "source": [
    "A = np.array([1,2,3,4])\n",
    "C = np.vstack((A, B))\n",
    "print(C)  #will give ValueError"
   ]
  },
  {
   "cell_type": "code",
   "execution_count": 11,
   "metadata": {},
   "outputs": [
    {
     "name": "stdout",
     "output_type": "stream",
     "text": [
      "[[1. 1. 0. 0. 0.]\n",
      " [1. 1. 0. 0. 0.]\n",
      " [1. 1. 0. 0. 0.]]\n"
     ]
    }
   ],
   "source": [
    "A = np.ones((3,2))\n",
    "B = np.zeros((3,3))\n",
    "C = np.hstack((A,B))\n",
    "print(C)"
   ]
  },
  {
   "cell_type": "markdown",
   "metadata": {},
   "source": [
    "np.hstack((N1,N2,Nn...))可把array horizontally pack埋成新array (列數需一樣)"
   ]
  },
  {
   "cell_type": "code",
   "execution_count": null,
   "metadata": {},
   "outputs": [],
   "source": []
  }
 ],
 "metadata": {
  "kernelspec": {
   "display_name": "Python 3",
   "language": "python",
   "name": "python3"
  },
  "language_info": {
   "codemirror_mode": {
    "name": "ipython",
    "version": 3
   },
   "file_extension": ".py",
   "mimetype": "text/x-python",
   "name": "python",
   "nbconvert_exporter": "python",
   "pygments_lexer": "ipython3",
   "version": "3.6.9"
  }
 },
 "nbformat": 4,
 "nbformat_minor": 4
}
